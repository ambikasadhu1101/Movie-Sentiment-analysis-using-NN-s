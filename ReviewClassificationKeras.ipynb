{
  "nbformat": 4,
  "nbformat_minor": 0,
  "metadata": {
    "colab": {
      "name": "ReviewClassificationKeras.ipynb",
      "provenance": [],
      "collapsed_sections": [],
      "authorship_tag": "ABX9TyMfsqGkSloGwpeilPNUjyxF",
      "include_colab_link": true
    },
    "kernelspec": {
      "name": "python3",
      "display_name": "Python 3"
    }
  },
  "cells": [
    {
      "cell_type": "markdown",
      "metadata": {
        "id": "view-in-github",
        "colab_type": "text"
      },
      "source": [
        "<a href=\"https://colab.research.google.com/github/ambikasadhu1101/Movie-Sentiment-analysis-using-NN-s/blob/master/ReviewClassificationKeras.ipynb\" target=\"_parent\"><img src=\"https://colab.research.google.com/assets/colab-badge.svg\" alt=\"Open In Colab\"/></a>"
      ]
    },
    {
      "cell_type": "markdown",
      "metadata": {
        "id": "TaPPE1tjtIoF",
        "colab_type": "text"
      },
      "source": [
        "## **Movie Review Sentiment analysis (into positive or negative) using Neural Networks and Keras.**"
      ]
    },
    {
      "cell_type": "code",
      "metadata": {
        "id": "I5Vn8Cp3HyYq",
        "colab_type": "code",
        "colab": {}
      },
      "source": [
        "from keras.datasets import imdb"
      ],
      "execution_count": 0,
      "outputs": []
    },
    {
      "cell_type": "code",
      "metadata": {
        "id": "zLMWUQgsR4W4",
        "colab_type": "code",
        "colab": {}
      },
      "source": [
        "(x_train,y_train),(x_test,y_test) = imdb.load_data(num_words=10000) #consider the top 10000 frequent words"
      ],
      "execution_count": 0,
      "outputs": []
    },
    {
      "cell_type": "code",
      "metadata": {
        "id": "2oO8xudpUKo_",
        "colab_type": "code",
        "colab": {}
      },
      "source": [
        "print(x_train[0])"
      ],
      "execution_count": 0,
      "outputs": []
    },
    {
      "cell_type": "code",
      "metadata": {
        "id": "fUIvAPKZVSdd",
        "colab_type": "code",
        "colab": {}
      },
      "source": [
        "word_idx=imdb.get_word_index() #returns a mapping of words to their indices in the vocab"
      ],
      "execution_count": 0,
      "outputs": []
    },
    {
      "cell_type": "code",
      "metadata": {
        "id": "MGjkfoWNYkCP",
        "colab_type": "code",
        "colab": {}
      },
      "source": [
        "word_idx.items()"
      ],
      "execution_count": 0,
      "outputs": []
    },
    {
      "cell_type": "code",
      "metadata": {
        "id": "9Siqp9qiZuNB",
        "colab_type": "code",
        "colab": {}
      },
      "source": [
        "#reverse mapping to see the actual review\n",
        "idx_word=dict([val,key] for key,val in word_idx.items())"
      ],
      "execution_count": 0,
      "outputs": []
    },
    {
      "cell_type": "code",
      "metadata": {
        "id": "cVRSG7wAbaCt",
        "colab_type": "code",
        "colab": {}
      },
      "source": [
        "actual_review= ' '.join([idx_word.get(idx-3,'#') for idx in x_train[0]])"
      ],
      "execution_count": 0,
      "outputs": []
    },
    {
      "cell_type": "code",
      "metadata": {
        "id": "dG6Nc8tZfTdL",
        "colab_type": "code",
        "outputId": "7f6f6944-a25c-4eb5-9a21-1a207dad0656",
        "colab": {
          "base_uri": "https://localhost:8080/",
          "height": 34
        }
      },
      "source": [
        "len(x_train)"
      ],
      "execution_count": 0,
      "outputs": [
        {
          "output_type": "execute_result",
          "data": {
            "text/plain": [
              "25000"
            ]
          },
          "metadata": {
            "tags": []
          },
          "execution_count": 22
        }
      ]
    },
    {
      "cell_type": "markdown",
      "metadata": {
        "id": "EuShaoOuqAz7",
        "colab_type": "text"
      },
      "source": [
        "**Vectorise the review**"
      ]
    },
    {
      "cell_type": "code",
      "metadata": {
        "id": "gU8SPYw7qa8t",
        "colab_type": "code",
        "colab": {}
      },
      "source": [
        "# represent it as a vector of 0's and 1's \n",
        "# vocab size is 10000 so each vector will have a length of 10000"
      ],
      "execution_count": 0,
      "outputs": []
    },
    {
      "cell_type": "code",
      "metadata": {
        "id": "WqFzogTixput",
        "colab_type": "code",
        "colab": {}
      },
      "source": [
        "import numpy as np"
      ],
      "execution_count": 0,
      "outputs": []
    },
    {
      "cell_type": "code",
      "metadata": {
        "id": "AH0RvnkkrzA6",
        "colab_type": "code",
        "colab": {}
      },
      "source": [
        "def vectorise_sentences(sentences,dims=10000):\n",
        "  #sentences is a list of numbers(basically a linear array)\n",
        "  output= np.zeros((len(sentences),dims))\n",
        "  for i,idx in enumerate(sentences): \n",
        "    #print(i,idx)\n",
        "    output[i,idx]=1\n",
        "  return output"
      ],
      "execution_count": 0,
      "outputs": []
    },
    {
      "cell_type": "code",
      "metadata": {
        "id": "opdxg6bPx5MV",
        "colab_type": "code",
        "outputId": "83197098-ada9-457a-93e3-809a1973ff82",
        "colab": {
          "base_uri": "https://localhost:8080/",
          "height": 136
        }
      },
      "source": [
        "print(vectorise_sentences(x_train))"
      ],
      "execution_count": 0,
      "outputs": [
        {
          "output_type": "stream",
          "text": [
            "[[0. 1. 1. ... 0. 0. 0.]\n",
            " [0. 1. 1. ... 0. 0. 0.]\n",
            " [0. 1. 1. ... 0. 0. 0.]\n",
            " ...\n",
            " [0. 1. 1. ... 0. 0. 0.]\n",
            " [0. 1. 1. ... 0. 0. 0.]\n",
            " [0. 1. 1. ... 0. 0. 0.]]\n"
          ],
          "name": "stdout"
        }
      ]
    },
    {
      "cell_type": "code",
      "metadata": {
        "id": "R5EevRAGjnIA",
        "colab_type": "code",
        "colab": {}
      },
      "source": [
        "x_train=vectorise_sentences(x_train)\n",
        "x_test=vectorise_sentences(x_test)"
      ],
      "execution_count": 0,
      "outputs": []
    },
    {
      "cell_type": "code",
      "metadata": {
        "id": "xEnge4IDlK6Z",
        "colab_type": "code",
        "colab": {}
      },
      "source": [
        "y_train=np.asarray(y_train).astype('float32')\n",
        "y_test=np.asarray(y_test).astype('float32')"
      ],
      "execution_count": 0,
      "outputs": []
    },
    {
      "cell_type": "markdown",
      "metadata": {
        "id": "H829DaXw5yTe",
        "colab_type": "text"
      },
      "source": [
        "**Defining the model architecture**"
      ]
    },
    {
      "cell_type": "code",
      "metadata": {
        "id": "wOffA95N53Ho",
        "colab_type": "code",
        "colab": {}
      },
      "source": [
        "from keras import models\n",
        "from keras.layers import Dense #for creating dense layer"
      ],
      "execution_count": 0,
      "outputs": []
    },
    {
      "cell_type": "code",
      "metadata": {
        "id": "b072qZXH6EOj",
        "colab_type": "code",
        "outputId": "4fd54fa2-a8e4-4fb9-bea4-40bab7f6dbfa",
        "colab": {
          "base_uri": "https://localhost:8080/",
          "height": 139
        }
      },
      "source": [
        "#define the model\n",
        "model= models.Sequential() # a linear stack of layers\n",
        "model.add(Dense(16,activation='relu',input_shape=(10000,)))\n",
        "model.add(Dense(16,activation='relu'))\n",
        "model.add(Dense(1,activation='sigmoid')) #last layer uses the sigmoid to predict probability"
      ],
      "execution_count": 0,
      "outputs": [
        {
          "output_type": "stream",
          "text": [
            "WARNING:tensorflow:From /usr/local/lib/python3.6/dist-packages/keras/backend/tensorflow_backend.py:66: The name tf.get_default_graph is deprecated. Please use tf.compat.v1.get_default_graph instead.\n",
            "\n",
            "WARNING:tensorflow:From /usr/local/lib/python3.6/dist-packages/keras/backend/tensorflow_backend.py:541: The name tf.placeholder is deprecated. Please use tf.compat.v1.placeholder instead.\n",
            "\n",
            "WARNING:tensorflow:From /usr/local/lib/python3.6/dist-packages/keras/backend/tensorflow_backend.py:4432: The name tf.random_uniform is deprecated. Please use tf.random.uniform instead.\n",
            "\n"
          ],
          "name": "stdout"
        }
      ]
    },
    {
      "cell_type": "code",
      "metadata": {
        "id": "eWUvJkug8YYI",
        "colab_type": "code",
        "colab": {}
      },
      "source": [
        "#compile the model\n",
        "model.compile(optimizer='rmsprop',loss='binary_crossentropy',metrics=['accuracy'])"
      ],
      "execution_count": 0,
      "outputs": []
    },
    {
      "cell_type": "code",
      "metadata": {
        "id": "tUPetbYd9dVt",
        "colab_type": "code",
        "colab": {}
      },
      "source": [
        "model.summary()"
      ],
      "execution_count": 0,
      "outputs": []
    },
    {
      "cell_type": "markdown",
      "metadata": {
        "id": "6hkP2FvOhjJn",
        "colab_type": "text"
      },
      "source": [
        "**Training and Validation split**"
      ]
    },
    {
      "cell_type": "code",
      "metadata": {
        "id": "aLLueQ6_hn9-",
        "colab_type": "code",
        "colab": {}
      },
      "source": [
        "X_val=x_train[:5000]\n",
        "X_train=x_train[5000:]\n",
        "Y_val=y_train[:5000]\n",
        "Y_train=y_train[5000:]"
      ],
      "execution_count": 0,
      "outputs": []
    },
    {
      "cell_type": "code",
      "metadata": {
        "id": "ovP8JL2yi-KS",
        "colab_type": "code",
        "colab": {}
      },
      "source": [
        "hist=model.fit(X_train,Y_train,epochs=20,batch_size=512,validation_data=(X_val,Y_val))"
      ],
      "execution_count": 0,
      "outputs": []
    },
    {
      "cell_type": "markdown",
      "metadata": {
        "id": "TXWPX4-lmxPb",
        "colab_type": "text"
      },
      "source": [
        "**Visualisation**"
      ]
    },
    {
      "cell_type": "code",
      "metadata": {
        "id": "_uDMSqWfm0oF",
        "colab_type": "code",
        "colab": {}
      },
      "source": [
        "import matplotlib.pyplot as plt"
      ],
      "execution_count": 0,
      "outputs": []
    },
    {
      "cell_type": "code",
      "metadata": {
        "id": "jrc-YPlRoRuZ",
        "colab_type": "code",
        "colab": {}
      },
      "source": [
        "history=hist.history #stores several parameters in the dictionary as a history of the model "
      ],
      "execution_count": 0,
      "outputs": []
    },
    {
      "cell_type": "code",
      "metadata": {
        "id": "oDj1-c65nwzM",
        "colab_type": "code",
        "colab": {
          "base_uri": "https://localhost:8080/",
          "height": 295
        },
        "outputId": "822d9180-1f0a-4a4b-fd00-6114d6e2b667"
      },
      "source": [
        "plt.plot(history['acc'],label=\"training\")\n",
        "plt.plot(history['val_acc'],label=\"validation\")\n",
        "plt.title(\"accuracy curve\")\n",
        "plt.xlabel(\"epochs\")\n",
        "plt.ylabel(\"accuracy\")\n",
        "plt.legend()\n",
        "plt.show()"
      ],
      "execution_count": 54,
      "outputs": [
        {
          "output_type": "display_data",
          "data": {
            "image/png": "[encoded data removed]",
            "text/plain": [
              "<Figure size 432x288 with 1 Axes>"
            ]
          },
          "metadata": {
            "tags": []
          }
        }
      ]
    },
    {
      "cell_type": "markdown",
      "metadata": {
        "id": "EfAVkWexrcna",
        "colab_type": "text"
      },
      "source": [
        "Now, we can see that validation accuracy decreases over time. So we stop training after approximately 4 epochs, to avoid overfitting on the data."
      ]
    },
    {
      "cell_type": "code",
      "metadata": {
        "id": "8nLBR37zrlP0",
        "colab_type": "code",
        "colab": {}
      },
      "source": [
        "model= models.Sequential() # a linear stack of layers\n",
        "model.add(Dense(16,activation='relu',input_shape=(10000,)))\n",
        "model.add(Dense(16,activation='relu'))\n",
        "model.add(Dense(1,activation='sigmoid'))\n",
        "model.compile(optimizer='rmsprop',loss='binary_crossentropy',metrics=['accuracy'])\n",
        "hist_new=model.fit(X_train,Y_train,epochs=4,batch_size=512,validation_data=(X_val,Y_val))"
      ],
      "execution_count": 0,
      "outputs": []
    },
    {
      "cell_type": "code",
      "metadata": {
        "id": "guDkPhYusRj8",
        "colab_type": "code",
        "colab": {
          "base_uri": "https://localhost:8080/",
          "height": 295
        },
        "outputId": "38207262-272d-4a20-806d-5db746b3c339"
      },
      "source": [
        "history=hist_new.history\n",
        "plt.plot(history['acc'],label=\"training\")\n",
        "plt.plot(history['val_acc'],label=\"validation\")\n",
        "plt.title(\"accuracy curve\")\n",
        "plt.xlabel(\"epochs\")\n",
        "plt.ylabel(\"accuracy\")\n",
        "plt.legend()\n",
        "plt.show()"
      ],
      "execution_count": 58,
      "outputs": [
        {
          "output_type": "display_data",
          "data": {
            "image/png": "[encoded data removed]",
            "text/plain": [
              "<Figure size 432x288 with 1 Axes>"
            ]
          },
          "metadata": {
            "tags": []
          }
        }
      ]
    },
    {
      "cell_type": "markdown",
      "metadata": {
        "id": "iJ94vKArsnbz",
        "colab_type": "text"
      },
      "source": [
        "Hence, the final training accuracy is around 94% (Better than 100%)"
      ]
    },
    {
      "cell_type": "code",
      "metadata": {
        "id": "asxxi55LsdYl",
        "colab_type": "code",
        "colab": {
          "base_uri": "https://localhost:8080/",
          "height": 51
        },
        "outputId": "b526e86e-7139-40ab-aedb-eedcaa34d44c"
      },
      "source": [
        "#Evaluate on the test set\n",
        "model.evaluate(x_test,y_test)[1]"
      ],
      "execution_count": 60,
      "outputs": [
        {
          "output_type": "stream",
          "text": [
            "25000/25000 [==============================] - 2s 64us/step\n"
          ],
          "name": "stdout"
        },
        {
          "output_type": "execute_result",
          "data": {
            "text/plain": [
              "0.87848"
            ]
          },
          "metadata": {
            "tags": []
          },
          "execution_count": 60
        }
      ]
    },
    {
      "cell_type": "markdown",
      "metadata": {
        "id": "RNqcMVbss_2i",
        "colab_type": "text"
      },
      "source": [
        "Thus, we achieve an accuracy of 87.8% on the test data."
      ]
    }
  ]
}